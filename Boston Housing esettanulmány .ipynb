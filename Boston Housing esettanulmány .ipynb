{
 "cells": [
  {
   "cell_type": "code",
   "execution_count": 1,
   "id": "20936db7",
   "metadata": {},
   "outputs": [],
   "source": [
    "import warnings\n",
    "warnings.filterwarnings('ignore')\n",
    "import matplotlib.pyplot as plt\n",
    "%matplotlib inline\n",
    "import pandas as pd\n",
    "import numpy as np\n",
    "import seaborn as sns\n",
    "import os  "
   ]
  },
  {
   "cell_type": "code",
   "execution_count": 2,
   "id": "a1cb40d3",
   "metadata": {},
   "outputs": [],
   "source": [
    "ldir = os.chdir(r'C:\\Users\\K\\Desktop\\Kristóf\\Egyetem\\6.félév\\Uz.el.mod\\Beadandok\\1.beadando 2025.02.25')\n",
    "df = pd.read_csv('boston.csv')"
   ]
  },
  {
   "cell_type": "code",
   "execution_count": 3,
   "id": "53a351c4",
   "metadata": {},
   "outputs": [
    {
     "data": {
      "text/html": [
       "<div>\n",
       "<style scoped>\n",
       "    .dataframe tbody tr th:only-of-type {\n",
       "        vertical-align: middle;\n",
       "    }\n",
       "\n",
       "    .dataframe tbody tr th {\n",
       "        vertical-align: top;\n",
       "    }\n",
       "\n",
       "    .dataframe thead th {\n",
       "        text-align: right;\n",
       "    }\n",
       "</style>\n",
       "<table border=\"1\" class=\"dataframe\">\n",
       "  <thead>\n",
       "    <tr style=\"text-align: right;\">\n",
       "      <th></th>\n",
       "      <th>CRIM</th>\n",
       "      <th>ZN</th>\n",
       "      <th>INDUS</th>\n",
       "      <th>CHAS</th>\n",
       "      <th>NOX</th>\n",
       "      <th>RM</th>\n",
       "      <th>AGE</th>\n",
       "      <th>DIS</th>\n",
       "      <th>RAD</th>\n",
       "      <th>TAX</th>\n",
       "      <th>PTRATIO</th>\n",
       "      <th>B</th>\n",
       "      <th>LSTAT</th>\n",
       "      <th>MEDV</th>\n",
       "    </tr>\n",
       "  </thead>\n",
       "  <tbody>\n",
       "    <tr>\n",
       "      <th>0</th>\n",
       "      <td>0.00632</td>\n",
       "      <td>18.0</td>\n",
       "      <td>2.31</td>\n",
       "      <td>0.0</td>\n",
       "      <td>0.538</td>\n",
       "      <td>6.575</td>\n",
       "      <td>65.2</td>\n",
       "      <td>4.0900</td>\n",
       "      <td>1.0</td>\n",
       "      <td>296.0</td>\n",
       "      <td>15.3</td>\n",
       "      <td>396.90</td>\n",
       "      <td>4.98</td>\n",
       "      <td>24.0</td>\n",
       "    </tr>\n",
       "    <tr>\n",
       "      <th>1</th>\n",
       "      <td>0.02731</td>\n",
       "      <td>0.0</td>\n",
       "      <td>7.07</td>\n",
       "      <td>0.0</td>\n",
       "      <td>0.469</td>\n",
       "      <td>6.421</td>\n",
       "      <td>78.9</td>\n",
       "      <td>4.9671</td>\n",
       "      <td>2.0</td>\n",
       "      <td>242.0</td>\n",
       "      <td>17.8</td>\n",
       "      <td>396.90</td>\n",
       "      <td>9.14</td>\n",
       "      <td>21.6</td>\n",
       "    </tr>\n",
       "    <tr>\n",
       "      <th>2</th>\n",
       "      <td>0.02729</td>\n",
       "      <td>0.0</td>\n",
       "      <td>7.07</td>\n",
       "      <td>0.0</td>\n",
       "      <td>0.469</td>\n",
       "      <td>7.185</td>\n",
       "      <td>61.1</td>\n",
       "      <td>4.9671</td>\n",
       "      <td>2.0</td>\n",
       "      <td>242.0</td>\n",
       "      <td>17.8</td>\n",
       "      <td>392.83</td>\n",
       "      <td>4.03</td>\n",
       "      <td>34.7</td>\n",
       "    </tr>\n",
       "    <tr>\n",
       "      <th>3</th>\n",
       "      <td>0.03237</td>\n",
       "      <td>0.0</td>\n",
       "      <td>2.18</td>\n",
       "      <td>0.0</td>\n",
       "      <td>0.458</td>\n",
       "      <td>6.998</td>\n",
       "      <td>45.8</td>\n",
       "      <td>6.0622</td>\n",
       "      <td>3.0</td>\n",
       "      <td>222.0</td>\n",
       "      <td>18.7</td>\n",
       "      <td>394.63</td>\n",
       "      <td>2.94</td>\n",
       "      <td>33.4</td>\n",
       "    </tr>\n",
       "    <tr>\n",
       "      <th>4</th>\n",
       "      <td>0.06905</td>\n",
       "      <td>0.0</td>\n",
       "      <td>2.18</td>\n",
       "      <td>0.0</td>\n",
       "      <td>0.458</td>\n",
       "      <td>7.147</td>\n",
       "      <td>54.2</td>\n",
       "      <td>6.0622</td>\n",
       "      <td>3.0</td>\n",
       "      <td>222.0</td>\n",
       "      <td>18.7</td>\n",
       "      <td>396.90</td>\n",
       "      <td>5.33</td>\n",
       "      <td>36.2</td>\n",
       "    </tr>\n",
       "  </tbody>\n",
       "</table>\n",
       "</div>"
      ],
      "text/plain": [
       "      CRIM    ZN  INDUS  CHAS    NOX     RM   AGE     DIS  RAD    TAX  \\\n",
       "0  0.00632  18.0   2.31   0.0  0.538  6.575  65.2  4.0900  1.0  296.0   \n",
       "1  0.02731   0.0   7.07   0.0  0.469  6.421  78.9  4.9671  2.0  242.0   \n",
       "2  0.02729   0.0   7.07   0.0  0.469  7.185  61.1  4.9671  2.0  242.0   \n",
       "3  0.03237   0.0   2.18   0.0  0.458  6.998  45.8  6.0622  3.0  222.0   \n",
       "4  0.06905   0.0   2.18   0.0  0.458  7.147  54.2  6.0622  3.0  222.0   \n",
       "\n",
       "   PTRATIO       B  LSTAT  MEDV  \n",
       "0     15.3  396.90   4.98  24.0  \n",
       "1     17.8  396.90   9.14  21.6  \n",
       "2     17.8  392.83   4.03  34.7  \n",
       "3     18.7  394.63   2.94  33.4  \n",
       "4     18.7  396.90   5.33  36.2  "
      ]
     },
     "execution_count": 3,
     "metadata": {},
     "output_type": "execute_result"
    }
   ],
   "source": [
    "df.head()"
   ]
  },
  {
   "cell_type": "code",
   "execution_count": 4,
   "id": "3531218a",
   "metadata": {},
   "outputs": [
    {
     "data": {
      "text/plain": [
       "(506, 14)"
      ]
     },
     "execution_count": 4,
     "metadata": {},
     "output_type": "execute_result"
    }
   ],
   "source": [
    "df.shape"
   ]
  },
  {
   "cell_type": "code",
   "execution_count": 5,
   "id": "33f933c2",
   "metadata": {},
   "outputs": [
    {
     "name": "stdout",
     "output_type": "stream",
     "text": [
      "<class 'pandas.core.frame.DataFrame'>\n",
      "RangeIndex: 506 entries, 0 to 505\n",
      "Data columns (total 14 columns):\n",
      " #   Column   Non-Null Count  Dtype  \n",
      "---  ------   --------------  -----  \n",
      " 0   CRIM     506 non-null    float64\n",
      " 1   ZN       506 non-null    float64\n",
      " 2   INDUS    506 non-null    float64\n",
      " 3   CHAS     506 non-null    float64\n",
      " 4   NOX      506 non-null    float64\n",
      " 5   RM       506 non-null    float64\n",
      " 6   AGE      506 non-null    float64\n",
      " 7   DIS      506 non-null    float64\n",
      " 8   RAD      506 non-null    float64\n",
      " 9   TAX      506 non-null    float64\n",
      " 10  PTRATIO  506 non-null    float64\n",
      " 11  B        506 non-null    float64\n",
      " 12  LSTAT    506 non-null    float64\n",
      " 13  MEDV     506 non-null    float64\n",
      "dtypes: float64(14)\n",
      "memory usage: 55.5 KB\n"
     ]
    }
   ],
   "source": [
    "df.info()"
   ]
  },
  {
   "cell_type": "code",
   "execution_count": 6,
   "id": "98d155af",
   "metadata": {},
   "outputs": [
    {
     "data": {
      "text/plain": [
       "CRIM       0\n",
       "ZN         0\n",
       "INDUS      0\n",
       "CHAS       0\n",
       "NOX        0\n",
       "RM         0\n",
       "AGE        0\n",
       "DIS        0\n",
       "RAD        0\n",
       "TAX        0\n",
       "PTRATIO    0\n",
       "B          0\n",
       "LSTAT      0\n",
       "MEDV       0\n",
       "dtype: int64"
      ]
     },
     "execution_count": 6,
     "metadata": {},
     "output_type": "execute_result"
    }
   ],
   "source": [
    "#hiányzó adatok kiszűrése\n",
    "df.isnull().sum()"
   ]
  },
  {
   "cell_type": "code",
   "execution_count": 7,
   "id": "dc9d305d",
   "metadata": {},
   "outputs": [
    {
     "data": {
      "text/html": [
       "<div>\n",
       "<style scoped>\n",
       "    .dataframe tbody tr th:only-of-type {\n",
       "        vertical-align: middle;\n",
       "    }\n",
       "\n",
       "    .dataframe tbody tr th {\n",
       "        vertical-align: top;\n",
       "    }\n",
       "\n",
       "    .dataframe thead th {\n",
       "        text-align: right;\n",
       "    }\n",
       "</style>\n",
       "<table border=\"1\" class=\"dataframe\">\n",
       "  <thead>\n",
       "    <tr style=\"text-align: right;\">\n",
       "      <th></th>\n",
       "      <th>CRIM</th>\n",
       "      <th>ZN</th>\n",
       "      <th>INDUS</th>\n",
       "      <th>CHAS</th>\n",
       "      <th>NOX</th>\n",
       "      <th>RM</th>\n",
       "      <th>AGE</th>\n",
       "      <th>DIS</th>\n",
       "      <th>RAD</th>\n",
       "      <th>TAX</th>\n",
       "      <th>PTRATIO</th>\n",
       "      <th>B</th>\n",
       "      <th>LSTAT</th>\n",
       "      <th>MEDV</th>\n",
       "    </tr>\n",
       "  </thead>\n",
       "  <tbody>\n",
       "  </tbody>\n",
       "</table>\n",
       "</div>"
      ],
      "text/plain": [
       "Empty DataFrame\n",
       "Columns: [CRIM, ZN, INDUS, CHAS, NOX, RM, AGE, DIS, RAD, TAX, PTRATIO, B, LSTAT, MEDV]\n",
       "Index: []"
      ]
     },
     "execution_count": 7,
     "metadata": {},
     "output_type": "execute_result"
    }
   ],
   "source": [
    "#duplikáció keresése\n",
    "df[df.duplicated(keep=False)]"
   ]
  },
  {
   "cell_type": "code",
   "execution_count": 8,
   "id": "f688d836",
   "metadata": {},
   "outputs": [
    {
     "data": {
      "text/plain": [
       "<Axes: >"
      ]
     },
     "execution_count": 8,
     "metadata": {},
     "output_type": "execute_result"
    },
    {
     "data": {
      "image/png": "[encoded data removed]",
      "text/plain": [
       "<Figure size 640x480 with 1 Axes>"
      ]
     },
     "metadata": {},
     "output_type": "display_data"
    }
   ],
   "source": [
    "#Outlier adatok kiszűrése\n",
    "df.boxplot(column = ['CRIM','ZN','INDUS','CHAS','NOX','RM','AGE','DIS','RAD','TAX','PTRATIO','B','LSTAT','MEDV'])"
   ]
  },
  {
   "cell_type": "code",
   "execution_count": 9,
   "id": "2a6e56b2",
   "metadata": {},
   "outputs": [
    {
     "data": {
      "text/plain": [
       "<Axes: >"
      ]
     },
     "execution_count": 9,
     "metadata": {},
     "output_type": "execute_result"
    },
    {
     "data": {
      "image/png": "[encoded data removed]",
      "text/plain": [
       "<Figure size 640x480 with 1 Axes>"
      ]
     },
     "metadata": {},
     "output_type": "display_data"
    }
   ],
   "source": [
    "df.boxplot(column=['CRIM'])"
   ]
  },
  {
   "cell_type": "code",
   "execution_count": 10,
   "id": "fd71809a",
   "metadata": {},
   "outputs": [],
   "source": [
    "df = df.loc[df['CRIM']<0.275]"
   ]
  },
  {
   "cell_type": "code",
   "execution_count": 11,
   "id": "3e812902",
   "metadata": {},
   "outputs": [
    {
     "data": {
      "text/plain": [
       "<Axes: >"
      ]
     },
     "execution_count": 11,
     "metadata": {},
     "output_type": "execute_result"
    },
    {
     "data": {
      "image/png": "[encoded data removed]",
      "text/plain": [
       "<Figure size 640x480 with 1 Axes>"
      ]
     },
     "metadata": {},
     "output_type": "display_data"
    }
   ],
   "source": [
    "df.boxplot(column=['CRIM'])"
   ]
  },
  {
   "cell_type": "code",
   "execution_count": 12,
   "id": "99fd4717",
   "metadata": {},
   "outputs": [
    {
     "data": {
      "text/plain": [
       "<Axes: >"
      ]
     },
     "execution_count": 12,
     "metadata": {},
     "output_type": "execute_result"
    },
    {
     "data": {
      "image/png": "[encoded data removed]",
      "text/plain": [
       "<Figure size 640x480 with 1 Axes>"
      ]
     },
     "metadata": {},
     "output_type": "display_data"
    }
   ],
   "source": [
    "df.boxplot(column=['RM'])"
   ]
  },
  {
   "cell_type": "code",
   "execution_count": 13,
   "id": "d2cbfe08",
   "metadata": {},
   "outputs": [],
   "source": [
    "df = df.loc[df['RM']>5.6]"
   ]
  },
  {
   "cell_type": "code",
   "execution_count": 14,
   "id": "5dbbe2d3",
   "metadata": {},
   "outputs": [
    {
     "data": {
      "text/plain": [
       "<Axes: >"
      ]
     },
     "execution_count": 14,
     "metadata": {},
     "output_type": "execute_result"
    },
    {
     "data": {
      "image/png": "[encoded data removed]",
      "text/plain": [
       "<Figure size 640x480 with 1 Axes>"
      ]
     },
     "metadata": {},
     "output_type": "display_data"
    }
   ],
   "source": [
    "df.boxplot(column=['DIS'])"
   ]
  },
  {
   "cell_type": "code",
   "execution_count": 15,
   "id": "7b24b573",
   "metadata": {},
   "outputs": [],
   "source": [
    "df = df.loc[df['DIS']<7]"
   ]
  },
  {
   "cell_type": "code",
   "execution_count": 16,
   "id": "fbe24fe9",
   "metadata": {},
   "outputs": [
    {
     "data": {
      "text/plain": [
       "<Axes: >"
      ]
     },
     "execution_count": 16,
     "metadata": {},
     "output_type": "execute_result"
    },
    {
     "data": {
      "image/png": "[encoded data removed]",
      "text/plain": [
       "<Figure size 640x480 with 1 Axes>"
      ]
     },
     "metadata": {},
     "output_type": "display_data"
    }
   ],
   "source": [
    "df.boxplot(column=['PTRATIO'])"
   ]
  },
  {
   "cell_type": "code",
   "execution_count": 17,
   "id": "8bd917e0",
   "metadata": {},
   "outputs": [],
   "source": [
    "df = df.loc[df['PTRATIO']<20]"
   ]
  },
  {
   "cell_type": "code",
   "execution_count": 18,
   "id": "54b4e15c",
   "metadata": {},
   "outputs": [
    {
     "data": {
      "text/plain": [
       "<Axes: >"
      ]
     },
     "execution_count": 18,
     "metadata": {},
     "output_type": "execute_result"
    },
    {
     "data": {
      "image/png": "[encoded data removed]",
      "text/plain": [
       "<Figure size 640x480 with 1 Axes>"
      ]
     },
     "metadata": {},
     "output_type": "display_data"
    }
   ],
   "source": [
    "df.boxplot(column=['B'])"
   ]
  },
  {
   "cell_type": "code",
   "execution_count": 19,
   "id": "c9f5fae4",
   "metadata": {},
   "outputs": [],
   "source": [
    "df = df.loc[df['B']>388]"
   ]
  },
  {
   "cell_type": "code",
   "execution_count": 20,
   "id": "72dd71a4",
   "metadata": {},
   "outputs": [
    {
     "data": {
      "text/html": [
       "<div>\n",
       "<style scoped>\n",
       "    .dataframe tbody tr th:only-of-type {\n",
       "        vertical-align: middle;\n",
       "    }\n",
       "\n",
       "    .dataframe tbody tr th {\n",
       "        vertical-align: top;\n",
       "    }\n",
       "\n",
       "    .dataframe thead th {\n",
       "        text-align: right;\n",
       "    }\n",
       "</style>\n",
       "<table border=\"1\" class=\"dataframe\">\n",
       "  <thead>\n",
       "    <tr style=\"text-align: right;\">\n",
       "      <th></th>\n",
       "      <th>CRIM</th>\n",
       "      <th>ZN</th>\n",
       "      <th>INDUS</th>\n",
       "      <th>CHAS</th>\n",
       "      <th>NOX</th>\n",
       "      <th>RM</th>\n",
       "      <th>AGE</th>\n",
       "      <th>DIS</th>\n",
       "      <th>RAD</th>\n",
       "      <th>TAX</th>\n",
       "      <th>PTRATIO</th>\n",
       "      <th>B</th>\n",
       "      <th>LSTAT</th>\n",
       "      <th>MEDV</th>\n",
       "    </tr>\n",
       "  </thead>\n",
       "  <tbody>\n",
       "    <tr>\n",
       "      <th>CRIM</th>\n",
       "      <td>1.000000</td>\n",
       "      <td>-0.448809</td>\n",
       "      <td>0.382575</td>\n",
       "      <td>0.044435</td>\n",
       "      <td>0.478765</td>\n",
       "      <td>-0.404220</td>\n",
       "      <td>0.283546</td>\n",
       "      <td>-0.230668</td>\n",
       "      <td>0.269617</td>\n",
       "      <td>0.224716</td>\n",
       "      <td>0.312709</td>\n",
       "      <td>0.021005</td>\n",
       "      <td>0.572202</td>\n",
       "      <td>-0.398447</td>\n",
       "    </tr>\n",
       "    <tr>\n",
       "      <th>ZN</th>\n",
       "      <td>-0.448809</td>\n",
       "      <td>1.000000</td>\n",
       "      <td>-0.381117</td>\n",
       "      <td>0.062278</td>\n",
       "      <td>-0.577877</td>\n",
       "      <td>0.437974</td>\n",
       "      <td>-0.476135</td>\n",
       "      <td>0.429307</td>\n",
       "      <td>-0.050111</td>\n",
       "      <td>-0.071329</td>\n",
       "      <td>-0.384552</td>\n",
       "      <td>0.033833</td>\n",
       "      <td>-0.460700</td>\n",
       "      <td>0.465766</td>\n",
       "    </tr>\n",
       "    <tr>\n",
       "      <th>INDUS</th>\n",
       "      <td>0.382575</td>\n",
       "      <td>-0.381117</td>\n",
       "      <td>1.000000</td>\n",
       "      <td>0.163957</td>\n",
       "      <td>0.413840</td>\n",
       "      <td>-0.496604</td>\n",
       "      <td>0.153674</td>\n",
       "      <td>-0.207186</td>\n",
       "      <td>0.212122</td>\n",
       "      <td>0.243933</td>\n",
       "      <td>0.187542</td>\n",
       "      <td>-0.037855</td>\n",
       "      <td>0.496611</td>\n",
       "      <td>-0.482398</td>\n",
       "    </tr>\n",
       "    <tr>\n",
       "      <th>CHAS</th>\n",
       "      <td>0.044435</td>\n",
       "      <td>0.062278</td>\n",
       "      <td>0.163957</td>\n",
       "      <td>1.000000</td>\n",
       "      <td>0.047105</td>\n",
       "      <td>0.062791</td>\n",
       "      <td>0.067699</td>\n",
       "      <td>-0.095022</td>\n",
       "      <td>-0.058675</td>\n",
       "      <td>-0.154858</td>\n",
       "      <td>-0.057604</td>\n",
       "      <td>-0.188093</td>\n",
       "      <td>0.094923</td>\n",
       "      <td>0.094899</td>\n",
       "    </tr>\n",
       "    <tr>\n",
       "      <th>NOX</th>\n",
       "      <td>0.478765</td>\n",
       "      <td>-0.577877</td>\n",
       "      <td>0.413840</td>\n",
       "      <td>0.047105</td>\n",
       "      <td>1.000000</td>\n",
       "      <td>-0.358902</td>\n",
       "      <td>0.629913</td>\n",
       "      <td>-0.671313</td>\n",
       "      <td>0.318488</td>\n",
       "      <td>0.341870</td>\n",
       "      <td>0.188192</td>\n",
       "      <td>-0.063828</td>\n",
       "      <td>0.532814</td>\n",
       "      <td>-0.377836</td>\n",
       "    </tr>\n",
       "    <tr>\n",
       "      <th>RM</th>\n",
       "      <td>-0.404220</td>\n",
       "      <td>0.437974</td>\n",
       "      <td>-0.496604</td>\n",
       "      <td>0.062791</td>\n",
       "      <td>-0.358902</td>\n",
       "      <td>1.000000</td>\n",
       "      <td>-0.141933</td>\n",
       "      <td>0.038269</td>\n",
       "      <td>-0.204977</td>\n",
       "      <td>-0.285712</td>\n",
       "      <td>-0.281925</td>\n",
       "      <td>-0.082775</td>\n",
       "      <td>-0.711739</td>\n",
       "      <td>0.876555</td>\n",
       "    </tr>\n",
       "    <tr>\n",
       "      <th>AGE</th>\n",
       "      <td>0.283546</td>\n",
       "      <td>-0.476135</td>\n",
       "      <td>0.153674</td>\n",
       "      <td>0.067699</td>\n",
       "      <td>0.629913</td>\n",
       "      <td>-0.141933</td>\n",
       "      <td>1.000000</td>\n",
       "      <td>-0.522353</td>\n",
       "      <td>0.106629</td>\n",
       "      <td>0.068987</td>\n",
       "      <td>0.070336</td>\n",
       "      <td>-0.020670</td>\n",
       "      <td>0.498641</td>\n",
       "      <td>-0.282227</td>\n",
       "    </tr>\n",
       "    <tr>\n",
       "      <th>DIS</th>\n",
       "      <td>-0.230668</td>\n",
       "      <td>0.429307</td>\n",
       "      <td>-0.207186</td>\n",
       "      <td>-0.095022</td>\n",
       "      <td>-0.671313</td>\n",
       "      <td>0.038269</td>\n",
       "      <td>-0.522353</td>\n",
       "      <td>1.000000</td>\n",
       "      <td>-0.168889</td>\n",
       "      <td>-0.084162</td>\n",
       "      <td>-0.323227</td>\n",
       "      <td>0.036265</td>\n",
       "      <td>-0.164707</td>\n",
       "      <td>0.015529</td>\n",
       "    </tr>\n",
       "    <tr>\n",
       "      <th>RAD</th>\n",
       "      <td>0.269617</td>\n",
       "      <td>-0.050111</td>\n",
       "      <td>0.212122</td>\n",
       "      <td>-0.058675</td>\n",
       "      <td>0.318488</td>\n",
       "      <td>-0.204977</td>\n",
       "      <td>0.106629</td>\n",
       "      <td>-0.168889</td>\n",
       "      <td>1.000000</td>\n",
       "      <td>0.427861</td>\n",
       "      <td>0.077887</td>\n",
       "      <td>0.026023</td>\n",
       "      <td>0.247914</td>\n",
       "      <td>-0.215061</td>\n",
       "    </tr>\n",
       "    <tr>\n",
       "      <th>TAX</th>\n",
       "      <td>0.224716</td>\n",
       "      <td>-0.071329</td>\n",
       "      <td>0.243933</td>\n",
       "      <td>-0.154858</td>\n",
       "      <td>0.341870</td>\n",
       "      <td>-0.285712</td>\n",
       "      <td>0.068987</td>\n",
       "      <td>-0.084162</td>\n",
       "      <td>0.427861</td>\n",
       "      <td>1.000000</td>\n",
       "      <td>-0.088946</td>\n",
       "      <td>-0.047629</td>\n",
       "      <td>0.258842</td>\n",
       "      <td>-0.403203</td>\n",
       "    </tr>\n",
       "    <tr>\n",
       "      <th>PTRATIO</th>\n",
       "      <td>0.312709</td>\n",
       "      <td>-0.384552</td>\n",
       "      <td>0.187542</td>\n",
       "      <td>-0.057604</td>\n",
       "      <td>0.188192</td>\n",
       "      <td>-0.281925</td>\n",
       "      <td>0.070336</td>\n",
       "      <td>-0.323227</td>\n",
       "      <td>0.077887</td>\n",
       "      <td>-0.088946</td>\n",
       "      <td>1.000000</td>\n",
       "      <td>0.168325</td>\n",
       "      <td>0.102567</td>\n",
       "      <td>-0.305868</td>\n",
       "    </tr>\n",
       "    <tr>\n",
       "      <th>B</th>\n",
       "      <td>0.021005</td>\n",
       "      <td>0.033833</td>\n",
       "      <td>-0.037855</td>\n",
       "      <td>-0.188093</td>\n",
       "      <td>-0.063828</td>\n",
       "      <td>-0.082775</td>\n",
       "      <td>-0.020670</td>\n",
       "      <td>0.036265</td>\n",
       "      <td>0.026023</td>\n",
       "      <td>-0.047629</td>\n",
       "      <td>0.168325</td>\n",
       "      <td>1.000000</td>\n",
       "      <td>-0.057127</td>\n",
       "      <td>-0.081820</td>\n",
       "    </tr>\n",
       "    <tr>\n",
       "      <th>LSTAT</th>\n",
       "      <td>0.572202</td>\n",
       "      <td>-0.460700</td>\n",
       "      <td>0.496611</td>\n",
       "      <td>0.094923</td>\n",
       "      <td>0.532814</td>\n",
       "      <td>-0.711739</td>\n",
       "      <td>0.498641</td>\n",
       "      <td>-0.164707</td>\n",
       "      <td>0.247914</td>\n",
       "      <td>0.258842</td>\n",
       "      <td>0.102567</td>\n",
       "      <td>-0.057127</td>\n",
       "      <td>1.000000</td>\n",
       "      <td>-0.681216</td>\n",
       "    </tr>\n",
       "    <tr>\n",
       "      <th>MEDV</th>\n",
       "      <td>-0.398447</td>\n",
       "      <td>0.465766</td>\n",
       "      <td>-0.482398</td>\n",
       "      <td>0.094899</td>\n",
       "      <td>-0.377836</td>\n",
       "      <td>0.876555</td>\n",
       "      <td>-0.282227</td>\n",
       "      <td>0.015529</td>\n",
       "      <td>-0.215061</td>\n",
       "      <td>-0.403203</td>\n",
       "      <td>-0.305868</td>\n",
       "      <td>-0.081820</td>\n",
       "      <td>-0.681216</td>\n",
       "      <td>1.000000</td>\n",
       "    </tr>\n",
       "  </tbody>\n",
       "</table>\n",
       "</div>"
      ],
      "text/plain": [
       "             CRIM        ZN     INDUS      CHAS       NOX        RM       AGE  \\\n",
       "CRIM     1.000000 -0.448809  0.382575  0.044435  0.478765 -0.404220  0.283546   \n",
       "ZN      -0.448809  1.000000 -0.381117  0.062278 -0.577877  0.437974 -0.476135   \n",
       "INDUS    0.382575 -0.381117  1.000000  0.163957  0.413840 -0.496604  0.153674   \n",
       "CHAS     0.044435  0.062278  0.163957  1.000000  0.047105  0.062791  0.067699   \n",
       "NOX      0.478765 -0.577877  0.413840  0.047105  1.000000 -0.358902  0.629913   \n",
       "RM      -0.404220  0.437974 -0.496604  0.062791 -0.358902  1.000000 -0.141933   \n",
       "AGE      0.283546 -0.476135  0.153674  0.067699  0.629913 -0.141933  1.000000   \n",
       "DIS     -0.230668  0.429307 -0.207186 -0.095022 -0.671313  0.038269 -0.522353   \n",
       "RAD      0.269617 -0.050111  0.212122 -0.058675  0.318488 -0.204977  0.106629   \n",
       "TAX      0.224716 -0.071329  0.243933 -0.154858  0.341870 -0.285712  0.068987   \n",
       "PTRATIO  0.312709 -0.384552  0.187542 -0.057604  0.188192 -0.281925  0.070336   \n",
       "B        0.021005  0.033833 -0.037855 -0.188093 -0.063828 -0.082775 -0.020670   \n",
       "LSTAT    0.572202 -0.460700  0.496611  0.094923  0.532814 -0.711739  0.498641   \n",
       "MEDV    -0.398447  0.465766 -0.482398  0.094899 -0.377836  0.876555 -0.282227   \n",
       "\n",
       "              DIS       RAD       TAX   PTRATIO         B     LSTAT      MEDV  \n",
       "CRIM    -0.230668  0.269617  0.224716  0.312709  0.021005  0.572202 -0.398447  \n",
       "ZN       0.429307 -0.050111 -0.071329 -0.384552  0.033833 -0.460700  0.465766  \n",
       "INDUS   -0.207186  0.212122  0.243933  0.187542 -0.037855  0.496611 -0.482398  \n",
       "CHAS    -0.095022 -0.058675 -0.154858 -0.057604 -0.188093  0.094923  0.094899  \n",
       "NOX     -0.671313  0.318488  0.341870  0.188192 -0.063828  0.532814 -0.377836  \n",
       "RM       0.038269 -0.204977 -0.285712 -0.281925 -0.082775 -0.711739  0.876555  \n",
       "AGE     -0.522353  0.106629  0.068987  0.070336 -0.020670  0.498641 -0.282227  \n",
       "DIS      1.000000 -0.168889 -0.084162 -0.323227  0.036265 -0.164707  0.015529  \n",
       "RAD     -0.168889  1.000000  0.427861  0.077887  0.026023  0.247914 -0.215061  \n",
       "TAX     -0.084162  0.427861  1.000000 -0.088946 -0.047629  0.258842 -0.403203  \n",
       "PTRATIO -0.323227  0.077887 -0.088946  1.000000  0.168325  0.102567 -0.305868  \n",
       "B        0.036265  0.026023 -0.047629  0.168325  1.000000 -0.057127 -0.081820  \n",
       "LSTAT   -0.164707  0.247914  0.258842  0.102567 -0.057127  1.000000 -0.681216  \n",
       "MEDV     0.015529 -0.215061 -0.403203 -0.305868 -0.081820 -0.681216  1.000000  "
      ]
     },
     "execution_count": 20,
     "metadata": {},
     "output_type": "execute_result"
    }
   ],
   "source": [
    "df.corr()"
   ]
  },
  {
   "cell_type": "code",
   "execution_count": 21,
   "id": "937538f2",
   "metadata": {},
   "outputs": [
    {
     "name": "stdout",
     "output_type": "stream",
     "text": [
      "   TARTALOM          VIF\n",
      "0      MEDV    97.328802\n",
      "1      CRIM     6.022576\n",
      "2        ZN     3.178165\n",
      "3     INDUS     6.313255\n",
      "4      CHAS     1.276628\n",
      "5       NOX   375.523489\n",
      "6        RM   832.553841\n",
      "7       AGE    18.778013\n",
      "8       DIS    35.651434\n",
      "9       RAD    12.720777\n",
      "10      TAX    42.525376\n",
      "11  PTRATIO   285.772081\n",
      "12        B  1514.608503\n",
      "13    LSTAT    22.954558\n"
     ]
    }
   ],
   "source": [
    "\n",
    "from statsmodels.stats.outliers_influence import variance_inflation_factor\n",
    "\n",
    "\n",
    "# the independent variables set\n",
    "X = df[['MEDV','CRIM','ZN','INDUS','CHAS','NOX','RM','AGE','DIS','RAD','TAX','PTRATIO','B','LSTAT']]\n",
    "\n",
    "# VIF dataframe\n",
    "vif_df = pd.DataFrame()\n",
    "vif_df[\"TARTALOM\"] = X.columns\n",
    "\n",
    "# calculating VIF for each feature\n",
    "vif_df[\"VIF\"] = [variance_inflation_factor(X.values, i)\n",
    "                          for i in range(len(X.columns))]\n",
    "\n",
    "print(vif_df)"
   ]
  },
  {
   "cell_type": "code",
   "execution_count": 22,
   "id": "39bfe7bb",
   "metadata": {},
   "outputs": [],
   "source": [
    "df=X.drop(['NOX','RM','AGE','DIS','RAD','TAX','PTRATIO','B','LSTAT'], axis=1)"
   ]
  },
  {
   "cell_type": "code",
   "execution_count": 23,
   "id": "d3ef3840",
   "metadata": {},
   "outputs": [],
   "source": [
    "from sklearn.linear_model import LinearRegression  # lineáris regressziós eljárás beimportálása\n",
    "from sklearn.metrics import mean_absolute_error,mean_squared_error,r2_score  # mutatószámok számítása"
   ]
  },
  {
   "cell_type": "code",
   "execution_count": 24,
   "id": "e2d53c12-4c39-4773-90bd-1e9fddf99e6a",
   "metadata": {},
   "outputs": [],
   "source": [
    "# A függő és független változók szétválasztása\n",
    "x = df.drop('MEDV', axis = 1)\n",
    "y = df['MEDV']"
   ]
  },
  {
   "cell_type": "code",
   "execution_count": 25,
   "id": "09d92ed9-9b0f-457e-8921-f785a940edfe",
   "metadata": {},
   "outputs": [],
   "source": [
    "#Tanuló és tesztelő adatok véletlenszerű szétválasztása 70:30 arányban.\n",
    "from sklearn.model_selection import train_test_split\n",
    "x_train, x_test, y_train, y_test = train_test_split(x,y, random_state =1,test_size=0.3)"
   ]
  },
  {
   "cell_type": "code",
   "execution_count": 26,
   "id": "380fb894-5f3f-4b5a-b0a3-37a56833f95a",
   "metadata": {},
   "outputs": [
    {
     "data": {
      "text/html": [
       "<style>#sk-container-id-1 {\n",
       "  /* Definition of color scheme common for light and dark mode */\n",
       "  --sklearn-color-text: black;\n",
       "  --sklearn-color-line: gray;\n",
       "  /* Definition of color scheme for unfitted estimators */\n",
       "  --sklearn-color-unfitted-level-0: #fff5e6;\n",
       "  --sklearn-color-unfitted-level-1: #f6e4d2;\n",
       "  --sklearn-color-unfitted-level-2: #ffe0b3;\n",
       "  --sklearn-color-unfitted-level-3: chocolate;\n",
       "  /* Definition of color scheme for fitted estimators */\n",
       "  --sklearn-color-fitted-level-0: #f0f8ff;\n",
       "  --sklearn-color-fitted-level-1: #d4ebff;\n",
       "  --sklearn-color-fitted-level-2: #b3dbfd;\n",
       "  --sklearn-color-fitted-level-3: cornflowerblue;\n",
       "\n",
       "  /* Specific color for light theme */\n",
       "  --sklearn-color-text-on-default-background: var(--sg-text-color, var(--theme-code-foreground, var(--jp-content-font-color1, black)));\n",
       "  --sklearn-color-background: var(--sg-background-color, var(--theme-background, var(--jp-layout-color0, white)));\n",
       "  --sklearn-color-border-box: var(--sg-text-color, var(--theme-code-foreground, var(--jp-content-font-color1, black)));\n",
       "  --sklearn-color-icon: #696969;\n",
       "\n",
       "  @media (prefers-color-scheme: dark) {\n",
       "    /* Redefinition of color scheme for dark theme */\n",
       "    --sklearn-color-text-on-default-background: var(--sg-text-color, var(--theme-code-foreground, var(--jp-content-font-color1, white)));\n",
       "    --sklearn-color-background: var(--sg-background-color, var(--theme-background, var(--jp-layout-color0, #111)));\n",
       "    --sklearn-color-border-box: var(--sg-text-color, var(--theme-code-foreground, var(--jp-content-font-color1, white)));\n",
       "    --sklearn-color-icon: #878787;\n",
       "  }\n",
       "}\n",
       "\n",
       "#sk-container-id-1 {\n",
       "  color: var(--sklearn-color-text);\n",
       "}\n",
       "\n",
       "#sk-container-id-1 pre {\n",
       "  padding: 0;\n",
       "}\n",
       "\n",
       "#sk-container-id-1 input.sk-hidden--visually {\n",
       "  border: 0;\n",
       "  clip: rect(1px 1px 1px 1px);\n",
       "  clip: rect(1px, 1px, 1px, 1px);\n",
       "  height: 1px;\n",
       "  margin: -1px;\n",
       "  overflow: hidden;\n",
       "  padding: 0;\n",
       "  position: absolute;\n",
       "  width: 1px;\n",
       "}\n",
       "\n",
       "#sk-container-id-1 div.sk-dashed-wrapped {\n",
       "  border: 1px dashed var(--sklearn-color-line);\n",
       "  margin: 0 0.4em 0.5em 0.4em;\n",
       "  box-sizing: border-box;\n",
       "  padding-bottom: 0.4em;\n",
       "  background-color: var(--sklearn-color-background);\n",
       "}\n",
       "\n",
       "#sk-container-id-1 div.sk-container {\n",
       "  /* jupyter's `normalize.less` sets `[hidden] { display: none; }`\n",
       "     but bootstrap.min.css set `[hidden] { display: none !important; }`\n",
       "     so we also need the `!important` here to be able to override the\n",
       "     default hidden behavior on the sphinx rendered scikit-learn.org.\n",
       "     See: https://github.com/scikit-learn/scikit-learn/issues/21755 */\n",
       "  display: inline-block !important;\n",
       "  position: relative;\n",
       "}\n",
       "\n",
       "#sk-container-id-1 div.sk-text-repr-fallback {\n",
       "  display: none;\n",
       "}\n",
       "\n",
       "div.sk-parallel-item,\n",
       "div.sk-serial,\n",
       "div.sk-item {\n",
       "  /* draw centered vertical line to link estimators */\n",
       "  background-image: linear-gradient(var(--sklearn-color-text-on-default-background), var(--sklearn-color-text-on-default-background));\n",
       "  background-size: 2px 100%;\n",
       "  background-repeat: no-repeat;\n",
       "  background-position: center center;\n",
       "}\n",
       "\n",
       "/* Parallel-specific style estimator block */\n",
       "\n",
       "#sk-container-id-1 div.sk-parallel-item::after {\n",
       "  content: \"\";\n",
       "  width: 100%;\n",
       "  border-bottom: 2px solid var(--sklearn-color-text-on-default-background);\n",
       "  flex-grow: 1;\n",
       "}\n",
       "\n",
       "#sk-container-id-1 div.sk-parallel {\n",
       "  display: flex;\n",
       "  align-items: stretch;\n",
       "  justify-content: center;\n",
       "  background-color: var(--sklearn-color-background);\n",
       "  position: relative;\n",
       "}\n",
       "\n",
       "#sk-container-id-1 div.sk-parallel-item {\n",
       "  display: flex;\n",
       "  flex-direction: column;\n",
       "}\n",
       "\n",
       "#sk-container-id-1 div.sk-parallel-item:first-child::after {\n",
       "  align-self: flex-end;\n",
       "  width: 50%;\n",
       "}\n",
       "\n",
       "#sk-container-id-1 div.sk-parallel-item:last-child::after {\n",
       "  align-self: flex-start;\n",
       "  width: 50%;\n",
       "}\n",
       "\n",
       "#sk-container-id-1 div.sk-parallel-item:only-child::after {\n",
       "  width: 0;\n",
       "}\n",
       "\n",
       "/* Serial-specific style estimator block */\n",
       "\n",
       "#sk-container-id-1 div.sk-serial {\n",
       "  display: flex;\n",
       "  flex-direction: column;\n",
       "  align-items: center;\n",
       "  background-color: var(--sklearn-color-background);\n",
       "  padding-right: 1em;\n",
       "  padding-left: 1em;\n",
       "}\n",
       "\n",
       "\n",
       "/* Toggleable style: style used for estimator/Pipeline/ColumnTransformer box that is\n",
       "clickable and can be expanded/collapsed.\n",
       "- Pipeline and ColumnTransformer use this feature and define the default style\n",
       "- Estimators will overwrite some part of the style using the `sk-estimator` class\n",
       "*/\n",
       "\n",
       "/* Pipeline and ColumnTransformer style (default) */\n",
       "\n",
       "#sk-container-id-1 div.sk-toggleable {\n",
       "  /* Default theme specific background. It is overwritten whether we have a\n",
       "  specific estimator or a Pipeline/ColumnTransformer */\n",
       "  background-color: var(--sklearn-color-background);\n",
       "}\n",
       "\n",
       "/* Toggleable label */\n",
       "#sk-container-id-1 label.sk-toggleable__label {\n",
       "  cursor: pointer;\n",
       "  display: block;\n",
       "  width: 100%;\n",
       "  margin-bottom: 0;\n",
       "  padding: 0.5em;\n",
       "  box-sizing: border-box;\n",
       "  text-align: center;\n",
       "}\n",
       "\n",
       "#sk-container-id-1 label.sk-toggleable__label-arrow:before {\n",
       "  /* Arrow on the left of the label */\n",
       "  content: \"▸\";\n",
       "  float: left;\n",
       "  margin-right: 0.25em;\n",
       "  color: var(--sklearn-color-icon);\n",
       "}\n",
       "\n",
       "#sk-container-id-1 label.sk-toggleable__label-arrow:hover:before {\n",
       "  color: var(--sklearn-color-text);\n",
       "}\n",
       "\n",
       "/* Toggleable content - dropdown */\n",
       "\n",
       "#sk-container-id-1 div.sk-toggleable__content {\n",
       "  max-height: 0;\n",
       "  max-width: 0;\n",
       "  overflow: hidden;\n",
       "  text-align: left;\n",
       "  /* unfitted */\n",
       "  background-color: var(--sklearn-color-unfitted-level-0);\n",
       "}\n",
       "\n",
       "#sk-container-id-1 div.sk-toggleable__content.fitted {\n",
       "  /* fitted */\n",
       "  background-color: var(--sklearn-color-fitted-level-0);\n",
       "}\n",
       "\n",
       "#sk-container-id-1 div.sk-toggleable__content pre {\n",
       "  margin: 0.2em;\n",
       "  border-radius: 0.25em;\n",
       "  color: var(--sklearn-color-text);\n",
       "  /* unfitted */\n",
       "  background-color: var(--sklearn-color-unfitted-level-0);\n",
       "}\n",
       "\n",
       "#sk-container-id-1 div.sk-toggleable__content.fitted pre {\n",
       "  /* unfitted */\n",
       "  background-color: var(--sklearn-color-fitted-level-0);\n",
       "}\n",
       "\n",
       "#sk-container-id-1 input.sk-toggleable__control:checked~div.sk-toggleable__content {\n",
       "  /* Expand drop-down */\n",
       "  max-height: 200px;\n",
       "  max-width: 100%;\n",
       "  overflow: auto;\n",
       "}\n",
       "\n",
       "#sk-container-id-1 input.sk-toggleable__control:checked~label.sk-toggleable__label-arrow:before {\n",
       "  content: \"▾\";\n",
       "}\n",
       "\n",
       "/* Pipeline/ColumnTransformer-specific style */\n",
       "\n",
       "#sk-container-id-1 div.sk-label input.sk-toggleable__control:checked~label.sk-toggleable__label {\n",
       "  color: var(--sklearn-color-text);\n",
       "  background-color: var(--sklearn-color-unfitted-level-2);\n",
       "}\n",
       "\n",
       "#sk-container-id-1 div.sk-label.fitted input.sk-toggleable__control:checked~label.sk-toggleable__label {\n",
       "  background-color: var(--sklearn-color-fitted-level-2);\n",
       "}\n",
       "\n",
       "/* Estimator-specific style */\n",
       "\n",
       "/* Colorize estimator box */\n",
       "#sk-container-id-1 div.sk-estimator input.sk-toggleable__control:checked~label.sk-toggleable__label {\n",
       "  /* unfitted */\n",
       "  background-color: var(--sklearn-color-unfitted-level-2);\n",
       "}\n",
       "\n",
       "#sk-container-id-1 div.sk-estimator.fitted input.sk-toggleable__control:checked~label.sk-toggleable__label {\n",
       "  /* fitted */\n",
       "  background-color: var(--sklearn-color-fitted-level-2);\n",
       "}\n",
       "\n",
       "#sk-container-id-1 div.sk-label label.sk-toggleable__label,\n",
       "#sk-container-id-1 div.sk-label label {\n",
       "  /* The background is the default theme color */\n",
       "  color: var(--sklearn-color-text-on-default-background);\n",
       "}\n",
       "\n",
       "/* On hover, darken the color of the background */\n",
       "#sk-container-id-1 div.sk-label:hover label.sk-toggleable__label {\n",
       "  color: var(--sklearn-color-text);\n",
       "  background-color: var(--sklearn-color-unfitted-level-2);\n",
       "}\n",
       "\n",
       "/* Label box, darken color on hover, fitted */\n",
       "#sk-container-id-1 div.sk-label.fitted:hover label.sk-toggleable__label.fitted {\n",
       "  color: var(--sklearn-color-text);\n",
       "  background-color: var(--sklearn-color-fitted-level-2);\n",
       "}\n",
       "\n",
       "/* Estimator label */\n",
       "\n",
       "#sk-container-id-1 div.sk-label label {\n",
       "  font-family: monospace;\n",
       "  font-weight: bold;\n",
       "  display: inline-block;\n",
       "  line-height: 1.2em;\n",
       "}\n",
       "\n",
       "#sk-container-id-1 div.sk-label-container {\n",
       "  text-align: center;\n",
       "}\n",
       "\n",
       "/* Estimator-specific */\n",
       "#sk-container-id-1 div.sk-estimator {\n",
       "  font-family: monospace;\n",
       "  border: 1px dotted var(--sklearn-color-border-box);\n",
       "  border-radius: 0.25em;\n",
       "  box-sizing: border-box;\n",
       "  margin-bottom: 0.5em;\n",
       "  /* unfitted */\n",
       "  background-color: var(--sklearn-color-unfitted-level-0);\n",
       "}\n",
       "\n",
       "#sk-container-id-1 div.sk-estimator.fitted {\n",
       "  /* fitted */\n",
       "  background-color: var(--sklearn-color-fitted-level-0);\n",
       "}\n",
       "\n",
       "/* on hover */\n",
       "#sk-container-id-1 div.sk-estimator:hover {\n",
       "  /* unfitted */\n",
       "  background-color: var(--sklearn-color-unfitted-level-2);\n",
       "}\n",
       "\n",
       "#sk-container-id-1 div.sk-estimator.fitted:hover {\n",
       "  /* fitted */\n",
       "  background-color: var(--sklearn-color-fitted-level-2);\n",
       "}\n",
       "\n",
       "/* Specification for estimator info (e.g. \"i\" and \"?\") */\n",
       "\n",
       "/* Common style for \"i\" and \"?\" */\n",
       "\n",
       ".sk-estimator-doc-link,\n",
       "a:link.sk-estimator-doc-link,\n",
       "a:visited.sk-estimator-doc-link {\n",
       "  float: right;\n",
       "  font-size: smaller;\n",
       "  line-height: 1em;\n",
       "  font-family: monospace;\n",
       "  background-color: var(--sklearn-color-background);\n",
       "  border-radius: 1em;\n",
       "  height: 1em;\n",
       "  width: 1em;\n",
       "  text-decoration: none !important;\n",
       "  margin-left: 1ex;\n",
       "  /* unfitted */\n",
       "  border: var(--sklearn-color-unfitted-level-1) 1pt solid;\n",
       "  color: var(--sklearn-color-unfitted-level-1);\n",
       "}\n",
       "\n",
       ".sk-estimator-doc-link.fitted,\n",
       "a:link.sk-estimator-doc-link.fitted,\n",
       "a:visited.sk-estimator-doc-link.fitted {\n",
       "  /* fitted */\n",
       "  border: var(--sklearn-color-fitted-level-1) 1pt solid;\n",
       "  color: var(--sklearn-color-fitted-level-1);\n",
       "}\n",
       "\n",
       "/* On hover */\n",
       "div.sk-estimator:hover .sk-estimator-doc-link:hover,\n",
       ".sk-estimator-doc-link:hover,\n",
       "div.sk-label-container:hover .sk-estimator-doc-link:hover,\n",
       ".sk-estimator-doc-link:hover {\n",
       "  /* unfitted */\n",
       "  background-color: var(--sklearn-color-unfitted-level-3);\n",
       "  color: var(--sklearn-color-background);\n",
       "  text-decoration: none;\n",
       "}\n",
       "\n",
       "div.sk-estimator.fitted:hover .sk-estimator-doc-link.fitted:hover,\n",
       ".sk-estimator-doc-link.fitted:hover,\n",
       "div.sk-label-container:hover .sk-estimator-doc-link.fitted:hover,\n",
       ".sk-estimator-doc-link.fitted:hover {\n",
       "  /* fitted */\n",
       "  background-color: var(--sklearn-color-fitted-level-3);\n",
       "  color: var(--sklearn-color-background);\n",
       "  text-decoration: none;\n",
       "}\n",
       "\n",
       "/* Span, style for the box shown on hovering the info icon */\n",
       ".sk-estimator-doc-link span {\n",
       "  display: none;\n",
       "  z-index: 9999;\n",
       "  position: relative;\n",
       "  font-weight: normal;\n",
       "  right: .2ex;\n",
       "  padding: .5ex;\n",
       "  margin: .5ex;\n",
       "  width: min-content;\n",
       "  min-width: 20ex;\n",
       "  max-width: 50ex;\n",
       "  color: var(--sklearn-color-text);\n",
       "  box-shadow: 2pt 2pt 4pt #999;\n",
       "  /* unfitted */\n",
       "  background: var(--sklearn-color-unfitted-level-0);\n",
       "  border: .5pt solid var(--sklearn-color-unfitted-level-3);\n",
       "}\n",
       "\n",
       ".sk-estimator-doc-link.fitted span {\n",
       "  /* fitted */\n",
       "  background: var(--sklearn-color-fitted-level-0);\n",
       "  border: var(--sklearn-color-fitted-level-3);\n",
       "}\n",
       "\n",
       ".sk-estimator-doc-link:hover span {\n",
       "  display: block;\n",
       "}\n",
       "\n",
       "/* \"?\"-specific style due to the `<a>` HTML tag */\n",
       "\n",
       "#sk-container-id-1 a.estimator_doc_link {\n",
       "  float: right;\n",
       "  font-size: 1rem;\n",
       "  line-height: 1em;\n",
       "  font-family: monospace;\n",
       "  background-color: var(--sklearn-color-background);\n",
       "  border-radius: 1rem;\n",
       "  height: 1rem;\n",
       "  width: 1rem;\n",
       "  text-decoration: none;\n",
       "  /* unfitted */\n",
       "  color: var(--sklearn-color-unfitted-level-1);\n",
       "  border: var(--sklearn-color-unfitted-level-1) 1pt solid;\n",
       "}\n",
       "\n",
       "#sk-container-id-1 a.estimator_doc_link.fitted {\n",
       "  /* fitted */\n",
       "  border: var(--sklearn-color-fitted-level-1) 1pt solid;\n",
       "  color: var(--sklearn-color-fitted-level-1);\n",
       "}\n",
       "\n",
       "/* On hover */\n",
       "#sk-container-id-1 a.estimator_doc_link:hover {\n",
       "  /* unfitted */\n",
       "  background-color: var(--sklearn-color-unfitted-level-3);\n",
       "  color: var(--sklearn-color-background);\n",
       "  text-decoration: none;\n",
       "}\n",
       "\n",
       "#sk-container-id-1 a.estimator_doc_link.fitted:hover {\n",
       "  /* fitted */\n",
       "  background-color: var(--sklearn-color-fitted-level-3);\n",
       "}\n",
       "</style><div id=\"sk-container-id-1\" class=\"sk-top-container\"><div class=\"sk-text-repr-fallback\"><pre>LinearRegression()</pre><b>In a Jupyter environment, please rerun this cell to show the HTML representation or trust the notebook. <br />On GitHub, the HTML representation is unable to render, please try loading this page with nbviewer.org.</b></div><div class=\"sk-container\" hidden><div class=\"sk-item\"><div class=\"sk-estimator fitted sk-toggleable\"><input class=\"sk-toggleable__control sk-hidden--visually\" id=\"sk-estimator-id-1\" type=\"checkbox\" checked><label for=\"sk-estimator-id-1\" class=\"sk-toggleable__label fitted sk-toggleable__label-arrow fitted\">&nbsp;&nbsp;LinearRegression<a class=\"sk-estimator-doc-link fitted\" rel=\"noreferrer\" target=\"_blank\" href=\"https://scikit-learn.org/1.4/modules/generated/sklearn.linear_model.LinearRegression.html\">?<span>Documentation for LinearRegression</span></a><span class=\"sk-estimator-doc-link fitted\">i<span>Fitted</span></span></label><div class=\"sk-toggleable__content fitted\"><pre>LinearRegression()</pre></div> </div></div></div></div>"
      ],
      "text/plain": [
       "LinearRegression()"
      ]
     },
     "execution_count": 26,
     "metadata": {},
     "output_type": "execute_result"
    }
   ],
   "source": [
    "#A modell létrehozás és futtatása a tanuló adatokon\n",
    "linreg = LinearRegression()\n",
    "linreg.fit(x_train, y_train)"
   ]
  },
  {
   "cell_type": "code",
   "execution_count": 27,
   "id": "56d81f93-9124-492e-99cb-8f0af51ac45b",
   "metadata": {},
   "outputs": [
    {
     "name": "stdout",
     "output_type": "stream",
     "text": [
      "Coefficients: a = [-18.06412126   0.06562023  -0.61751053   3.97828253]\n",
      "Intercept: b =  30.789307567718332\n"
     ]
    }
   ],
   "source": [
    "#Az együtthatók kiszámítása\n",
    "print ('Coefficients: a =', linreg.coef_)\n",
    "print ('Intercept: b = ',linreg.intercept_)"
   ]
  },
  {
   "cell_type": "code",
   "execution_count": 28,
   "id": "e82d8065-e1e3-4956-a669-b7da7c45c022",
   "metadata": {},
   "outputs": [],
   "source": [
    "y_train_pred = linreg.predict(x_train)  # Kiszámolva a tanuló adatokra"
   ]
  },
  {
   "cell_type": "code",
   "execution_count": 29,
   "id": "f1fd5d03-6399-4981-938c-55b0a1b945db",
   "metadata": {},
   "outputs": [],
   "source": [
    "rmse_tan = (np.sqrt(mean_squared_error(y_train, y_train_pred)))\n",
    "r2_tan = r2_score(y_train, y_train_pred)"
   ]
  },
  {
   "cell_type": "code",
   "execution_count": 30,
   "id": "7cff16f2-2269-47fd-bfb6-34b037da4bc0",
   "metadata": {},
   "outputs": [
    {
     "name": "stdout",
     "output_type": "stream",
     "text": [
      "Átlagos négyzetes hiba gyöke (root mean squared error)= 6.032763380355568\n"
     ]
    }
   ],
   "source": [
    "print(\"Átlagos négyzetes hiba gyöke (root mean squared error)=\",rmse_tan)"
   ]
  },
  {
   "cell_type": "code",
   "execution_count": 31,
   "id": "67f00aa8-3a2b-4bdd-a6b5-a2c10d5a45d6",
   "metadata": {},
   "outputs": [
    {
     "name": "stdout",
     "output_type": "stream",
     "text": [
      "Átlagos négyzetes hiba gyöke (root mean squared error)= 6.032763380355568\n"
     ]
    }
   ],
   "source": [
    "print(\"Átlagos négyzetes hiba gyöke (root mean squared error)=\",rmse_tan)"
   ]
  },
  {
   "cell_type": "code",
   "execution_count": 32,
   "id": "5a81f9b7-0678-4701-b541-5af6190e92b7",
   "metadata": {},
   "outputs": [],
   "source": [
    "y_test_pred = linreg.predict(x_test)  # Az egyenes értékei a tesztadatokra"
   ]
  },
  {
   "cell_type": "code",
   "execution_count": 33,
   "id": "674970b9-2b09-43a8-be5b-2618ef628ac5",
   "metadata": {},
   "outputs": [],
   "source": [
    "rmse_teszt = (np.sqrt(mean_squared_error(y_test, y_test_pred)))\n",
    "r2_teszt = r2_score(y_test, y_test_pred)"
   ]
  },
  {
   "cell_type": "code",
   "execution_count": 34,
   "id": "9eec6e72-9741-4403-baac-ff76588c201a",
   "metadata": {},
   "outputs": [
    {
     "name": "stdout",
     "output_type": "stream",
     "text": [
      "Átlagos négyzetes hiba gyöke (root mean squared error)= 5.917743296523022\n"
     ]
    }
   ],
   "source": [
    "print(\"Átlagos négyzetes hiba gyöke (root mean squared error)=\",rmse_teszt)"
   ]
  },
  {
   "cell_type": "code",
   "execution_count": 35,
   "id": "64afa30a-95f8-48f6-a879-2c0b86a1a88d",
   "metadata": {},
   "outputs": [
    {
     "name": "stdout",
     "output_type": "stream",
     "text": [
      "Determinisztikus együttható r2= 0.40143112986342255\n"
     ]
    }
   ],
   "source": [
    "print(\"Determinisztikus együttható r2=\",r2_teszt)  # R négyzet"
   ]
  },
  {
   "cell_type": "code",
   "execution_count": 36,
   "id": "075c551e-867d-45d8-b189-32fba321f631",
   "metadata": {},
   "outputs": [
    {
     "data": {
      "image/png": "[encoded data removed]",
      "text/plain": [
       "<Figure size 640x480 with 1 Axes>"
      ]
     },
     "metadata": {},
     "output_type": "display_data"
    }
   ],
   "source": [
    "import matplotlib.pyplot as plt\n",
    "from sklearn.model_selection import learning_curve\n",
    "\n",
    "train_sizes, train_scores, val_scores = learning_curve(\n",
    "    linreg, x_train, y_train, train_sizes=np.linspace(0.1, 1.0, 10), cv=5, scoring='neg_mean_squared_error'\n",
    ")\n",
    "\n",
    "train_scores_mean = -np.mean(train_scores, axis=1)\n",
    "val_scores_mean = -np.mean(val_scores, axis=1)\n",
    "\n",
    "plt.plot(train_sizes, train_scores_mean, label='Tanító')\n",
    "plt.plot(train_sizes, val_scores_mean, label='Teszt')\n",
    "plt.xlabel('Tanító adatok mérete')\n",
    "plt.ylabel('MSE')\n",
    "plt.legend()\n",
    "plt.show()"
   ]
  },
  {
   "cell_type": "code",
   "execution_count": null,
   "id": "fc7bca67-b883-40dd-98da-b5a89766faef",
   "metadata": {},
   "outputs": [],
   "source": []
  }
 ],
 "metadata": {
  "kernelspec": {
   "display_name": "Python 3 (ipykernel)",
   "language": "python",
   "name": "python3"
  },
  "language_info": {
   "codemirror_mode": {
    "name": "ipython",
    "version": 3
   },
   "file_extension": ".py",
   "mimetype": "text/x-python",
   "name": "python",
   "nbconvert_exporter": "python",
   "pygments_lexer": "ipython3",
   "version": "3.12.4"
  }
 },
 "nbformat": 4,
 "nbformat_minor": 5
}
